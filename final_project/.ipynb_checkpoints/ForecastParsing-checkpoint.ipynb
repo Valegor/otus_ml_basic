{
 "cells": [
  {
   "cell_type": "markdown",
   "id": "9ce2015e",
   "metadata": {},
   "source": [
    "Предсказание средней температуры"
   ]
  },
  {
   "cell_type": "code",
   "execution_count": 1,
   "id": "88e9666a",
   "metadata": {},
   "outputs": [],
   "source": [
    "import requests      # Библиотека для отправки запросов\n",
    "import numpy as np   # Библиотека для матриц, векторов и линала\n",
    "import pandas as pd  # Библиотека для табличек \n",
    "import time          # Библиотека для времени"
   ]
  },
  {
   "cell_type": "code",
   "execution_count": 4,
   "id": "f0d6947b",
   "metadata": {},
   "outputs": [
    {
     "name": "stdout",
     "output_type": "stream",
     "text": [
      "Requirement already satisfied: fake_useragent in c:\\users\\user\\anaconda3\\lib\\site-packages (1.1.3)\n",
      "Requirement already satisfied: importlib-resources>=5.0 in c:\\users\\user\\anaconda3\\lib\\site-packages (from fake_useragent) (5.12.0)\n",
      "Requirement already satisfied: zipp>=3.1.0 in c:\\users\\user\\anaconda3\\lib\\site-packages (from importlib-resources>=5.0->fake_useragent) (3.7.0)\n"
     ]
    }
   ],
   "source": [
    "!pip install fake_useragent"
   ]
  },
  {
   "cell_type": "code",
   "execution_count": 5,
   "id": "ecf5628b",
   "metadata": {},
   "outputs": [],
   "source": [
    "from fake_useragent import UserAgent"
   ]
  },
  {
   "cell_type": "code",
   "execution_count": 6,
   "id": "7ddf6c37",
   "metadata": {},
   "outputs": [
    {
     "data": {
      "text/plain": [
       "'Mozilla/5.0 (Windows NT 5.1) AppleWebKit/534.25 (KHTML, like Gecko) Chrome/12.0.704.0 Safari/534.25'"
      ]
     },
     "execution_count": 6,
     "metadata": {},
     "output_type": "execute_result"
    }
   ],
   "source": [
    "UserAgent().chrome"
   ]
  },
  {
   "cell_type": "code",
   "execution_count": 7,
   "id": "6e5fc2f9",
   "metadata": {},
   "outputs": [],
   "source": [
    "page_link = 'http://www.pogodaiklimat.ru/monitor.php?id=27612'"
   ]
  },
  {
   "cell_type": "code",
   "execution_count": 8,
   "id": "a6ca8835",
   "metadata": {},
   "outputs": [
    {
     "data": {
      "text/plain": [
       "<Response [200]>"
      ]
     },
     "execution_count": 8,
     "metadata": {},
     "output_type": "execute_result"
    }
   ],
   "source": [
    "response = requests.get(page_link, headers={'User-Agent': UserAgent().chrome})\n",
    "response"
   ]
  },
  {
   "cell_type": "code",
   "execution_count": 11,
   "id": "a64d6631",
   "metadata": {},
   "outputs": [],
   "source": [
    "from bs4 import BeautifulSoup"
   ]
  },
  {
   "cell_type": "code",
   "execution_count": 12,
   "id": "ead08c0f",
   "metadata": {},
   "outputs": [],
   "source": [
    "html = response.content"
   ]
  },
  {
   "cell_type": "code",
   "execution_count": 13,
   "id": "52010e7f",
   "metadata": {},
   "outputs": [],
   "source": [
    "soup = BeautifulSoup(html, 'html.parser') "
   ]
  },
  {
   "cell_type": "code",
   "execution_count": 14,
   "id": "71ee452d",
   "metadata": {},
   "outputs": [
    {
     "data": {
      "text/plain": [
       "bs4.BeautifulSoup"
      ]
     },
     "execution_count": 14,
     "metadata": {},
     "output_type": "execute_result"
    }
   ],
   "source": [
    "type(soup)"
   ]
  },
  {
   "cell_type": "code",
   "execution_count": 16,
   "id": "1a8928a5",
   "metadata": {},
   "outputs": [
    {
     "name": "stdout",
     "output_type": "stream",
     "text": [
      "<!DOCTYPE html>\n",
      "<html lang=\"ru\">\n",
      " <head>\n",
      "  <title>\n"
     ]
    }
   ],
   "source": [
    "print(soup.prettify()[:50])"
   ]
  },
  {
   "cell_type": "code",
   "execution_count": 27,
   "id": "0c3f630c",
   "metadata": {},
   "outputs": [
    {
     "data": {
      "text/plain": [
       "<div class=\"climate-text\">\n",
       "\t\t\t\t\t\t\t\t\t\t\tНорма среднемесячной температуры июня: <b>17.3°</b>. Фактическая температура месяца по данным наблюдений: <b>16.8°</b>. Отклонение от нормы: <font color=\"#006600\"><b>-0.5°</b></font>.<br/>\n",
       "\t\t\t\t\t\t\t\t\t\t\tНорма суммы осадков в июне: <b>78 мм</b>. Выпало осадков: <b>71 мм</b>. Эта сумма составляет <b>92%</b> от нормы.<br/>\n",
       "\t\t\t\t\t\t\t\t\t\t\tСамая низкая температура воздуха (4.9°) была 4 июня. Самая высокая температура воздуха (27.4°) была 16 июня.\n",
       "\t\t\t\t\t\t\t\t\t\t</div>"
      ]
     },
     "execution_count": 27,
     "metadata": {},
     "output_type": "execute_result"
    }
   ],
   "source": [
    "obj = soup.find_all(lambda tag: tag.name == 'div' and tag.get('class') == ['climate-text'])[1]\n",
    "obj"
   ]
  },
  {
   "cell_type": "code",
   "execution_count": 51,
   "id": "bf80df52",
   "metadata": {},
   "outputs": [
    {
     "data": {
      "text/plain": [
       "bs4.element.Tag"
      ]
     },
     "execution_count": 51,
     "metadata": {},
     "output_type": "execute_result"
    }
   ],
   "source": [
    "type(obj)"
   ]
  },
  {
   "cell_type": "code",
   "execution_count": 56,
   "id": "ca1943b9",
   "metadata": {},
   "outputs": [
    {
     "data": {
      "text/plain": [
       "'16.8°'"
      ]
     },
     "execution_count": 56,
     "metadata": {},
     "output_type": "execute_result"
    }
   ],
   "source": [
    "temperature = obj.find_all(lambda tag: tag.name == 'b')[1].contents[0]\n",
    "temperature"
   ]
  },
  {
   "cell_type": "code",
   "execution_count": 57,
   "id": "55f82e5c",
   "metadata": {},
   "outputs": [
    {
     "data": {
      "text/plain": [
       "16.8"
      ]
     },
     "execution_count": 57,
     "metadata": {},
     "output_type": "execute_result"
    }
   ],
   "source": [
    "temperature = float(temperature[:-1])\n",
    "temperature"
   ]
  },
  {
   "cell_type": "code",
   "execution_count": 58,
   "id": "0e73f642",
   "metadata": {},
   "outputs": [
    {
     "data": {
      "text/plain": [
       "float"
      ]
     },
     "execution_count": 58,
     "metadata": {},
     "output_type": "execute_result"
    }
   ],
   "source": [
    "type(temperature)"
   ]
  },
  {
   "cell_type": "code",
   "execution_count": null,
   "id": "41d6a0bd",
   "metadata": {},
   "outputs": [],
   "source": []
  }
 ],
 "metadata": {
  "kernelspec": {
   "display_name": "Python 3 (ipykernel)",
   "language": "python",
   "name": "python3"
  },
  "language_info": {
   "codemirror_mode": {
    "name": "ipython",
    "version": 3
   },
   "file_extension": ".py",
   "mimetype": "text/x-python",
   "name": "python",
   "nbconvert_exporter": "python",
   "pygments_lexer": "ipython3",
   "version": "3.9.12"
  }
 },
 "nbformat": 4,
 "nbformat_minor": 5
}
