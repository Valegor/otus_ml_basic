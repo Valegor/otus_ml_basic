{
 "cells": [
  {
   "cell_type": "code",
   "execution_count": 1,
   "id": "b8bb5c47",
   "metadata": {},
   "outputs": [],
   "source": [
    "import pandas as pd\n",
    "import numpy as np\n",
    "\n",
    "import seaborn as sns\n",
    "from matplotlib import pyplot as plt\n",
    "%matplotlib inline"
   ]
  },
  {
   "cell_type": "code",
   "execution_count": 2,
   "id": "19ce5869",
   "metadata": {},
   "outputs": [
    {
     "data": {
      "text/html": [
       "<div>\n",
       "<style scoped>\n",
       "    .dataframe tbody tr th:only-of-type {\n",
       "        vertical-align: middle;\n",
       "    }\n",
       "\n",
       "    .dataframe tbody tr th {\n",
       "        vertical-align: top;\n",
       "    }\n",
       "\n",
       "    .dataframe thead th {\n",
       "        text-align: right;\n",
       "    }\n",
       "</style>\n",
       "<table border=\"1\" class=\"dataframe\">\n",
       "  <thead>\n",
       "    <tr style=\"text-align: right;\">\n",
       "      <th></th>\n",
       "      <th>Тверь</th>\n",
       "      <th>Санкт-Петербург</th>\n",
       "      <th>Владимир</th>\n",
       "      <th>Троицк</th>\n",
       "      <th>Тула</th>\n",
       "      <th>Тамбов</th>\n",
       "      <th>Смоленск</th>\n",
       "      <th>Саратов</th>\n",
       "      <th>Самара</th>\n",
       "      <th>Рыбинск</th>\n",
       "      <th>Коломна</th>\n",
       "      <th>Вязьма</th>\n",
       "      <th>Москва</th>\n",
       "    </tr>\n",
       "  </thead>\n",
       "  <tbody>\n",
       "    <tr>\n",
       "      <th>0</th>\n",
       "      <td>NaN</td>\n",
       "      <td>-11.2</td>\n",
       "      <td>NaN</td>\n",
       "      <td>-25.3</td>\n",
       "      <td>NaN</td>\n",
       "      <td>-16.4</td>\n",
       "      <td>-14.7</td>\n",
       "      <td>NaN</td>\n",
       "      <td>-20.8</td>\n",
       "      <td>-17.1</td>\n",
       "      <td>-16.3</td>\n",
       "      <td>NaN</td>\n",
       "      <td>-14.9</td>\n",
       "    </tr>\n",
       "    <tr>\n",
       "      <th>1</th>\n",
       "      <td>NaN</td>\n",
       "      <td>-4.1</td>\n",
       "      <td>NaN</td>\n",
       "      <td>-14.6</td>\n",
       "      <td>NaN</td>\n",
       "      <td>-11.6</td>\n",
       "      <td>-6.5</td>\n",
       "      <td>NaN</td>\n",
       "      <td>-11.5</td>\n",
       "      <td>-9.9</td>\n",
       "      <td>-10.4</td>\n",
       "      <td>NaN</td>\n",
       "      <td>-7.4</td>\n",
       "    </tr>\n",
       "    <tr>\n",
       "      <th>2</th>\n",
       "      <td>NaN</td>\n",
       "      <td>-2.4</td>\n",
       "      <td>NaN</td>\n",
       "      <td>-9.3</td>\n",
       "      <td>NaN</td>\n",
       "      <td>-3.5</td>\n",
       "      <td>-2.6</td>\n",
       "      <td>NaN</td>\n",
       "      <td>-5.2</td>\n",
       "      <td>-5.8</td>\n",
       "      <td>-3.7</td>\n",
       "      <td>NaN</td>\n",
       "      <td>-2.5</td>\n",
       "    </tr>\n",
       "    <tr>\n",
       "      <th>3</th>\n",
       "      <td>NaN</td>\n",
       "      <td>3.2</td>\n",
       "      <td>NaN</td>\n",
       "      <td>6.4</td>\n",
       "      <td>NaN</td>\n",
       "      <td>8.3</td>\n",
       "      <td>5.2</td>\n",
       "      <td>NaN</td>\n",
       "      <td>8.3</td>\n",
       "      <td>4.3</td>\n",
       "      <td>5.7</td>\n",
       "      <td>NaN</td>\n",
       "      <td>5.9</td>\n",
       "    </tr>\n",
       "    <tr>\n",
       "      <th>4</th>\n",
       "      <td>NaN</td>\n",
       "      <td>10.3</td>\n",
       "      <td>NaN</td>\n",
       "      <td>13.3</td>\n",
       "      <td>NaN</td>\n",
       "      <td>15.2</td>\n",
       "      <td>12.4</td>\n",
       "      <td>NaN</td>\n",
       "      <td>15.0</td>\n",
       "      <td>10.3</td>\n",
       "      <td>12.6</td>\n",
       "      <td>NaN</td>\n",
       "      <td>12.6</td>\n",
       "    </tr>\n",
       "  </tbody>\n",
       "</table>\n",
       "</div>"
      ],
      "text/plain": [
       "   Тверь  Санкт-Петербург  Владимир  Троицк  Тула  Тамбов  Смоленск  Саратов  \\\n",
       "0    NaN            -11.2       NaN   -25.3   NaN   -16.4     -14.7      NaN   \n",
       "1    NaN             -4.1       NaN   -14.6   NaN   -11.6      -6.5      NaN   \n",
       "2    NaN             -2.4       NaN    -9.3   NaN    -3.5      -2.6      NaN   \n",
       "3    NaN              3.2       NaN     6.4   NaN     8.3       5.2      NaN   \n",
       "4    NaN             10.3       NaN    13.3   NaN    15.2      12.4      NaN   \n",
       "\n",
       "   Самара  Рыбинск  Коломна  Вязьма  Москва  \n",
       "0   -20.8    -17.1    -16.3     NaN   -14.9  \n",
       "1   -11.5     -9.9    -10.4     NaN    -7.4  \n",
       "2    -5.2     -5.8     -3.7     NaN    -2.5  \n",
       "3     8.3      4.3      5.7     NaN     5.9  \n",
       "4    15.0     10.3     12.6     NaN    12.6  "
      ]
     },
     "execution_count": 2,
     "metadata": {},
     "output_type": "execute_result"
    }
   ],
   "source": [
    "df = pd.read_pickle(\"city_temperature_full.pkl\")\n",
    "df.head(5)"
   ]
  },
  {
   "cell_type": "code",
   "execution_count": 3,
   "id": "feadc151",
   "metadata": {},
   "outputs": [
    {
     "data": {
      "text/plain": [
       "612"
      ]
     },
     "execution_count": 3,
     "metadata": {},
     "output_type": "execute_result"
    }
   ],
   "source": [
    "len(df)"
   ]
  },
  {
   "cell_type": "code",
   "execution_count": 4,
   "id": "3de95678",
   "metadata": {},
   "outputs": [
    {
     "data": {
      "text/plain": [
       "812"
      ]
     },
     "execution_count": 4,
     "metadata": {},
     "output_type": "execute_result"
    }
   ],
   "source": [
    "df.isna().sum().sum()"
   ]
  },
  {
   "cell_type": "code",
   "execution_count": 5,
   "id": "1240f1de",
   "metadata": {},
   "outputs": [],
   "source": [
    "df = df.fillna(df.mean ())"
   ]
  },
  {
   "cell_type": "code",
   "execution_count": 6,
   "id": "63bd6489",
   "metadata": {},
   "outputs": [
    {
     "data": {
      "text/plain": [
       "0"
      ]
     },
     "execution_count": 6,
     "metadata": {},
     "output_type": "execute_result"
    }
   ],
   "source": [
    "df.isna().sum().sum()"
   ]
  },
  {
   "cell_type": "code",
   "execution_count": 7,
   "id": "f1c84a7e",
   "metadata": {},
   "outputs": [
    {
     "data": {
      "text/html": [
       "<div>\n",
       "<style scoped>\n",
       "    .dataframe tbody tr th:only-of-type {\n",
       "        vertical-align: middle;\n",
       "    }\n",
       "\n",
       "    .dataframe tbody tr th {\n",
       "        vertical-align: top;\n",
       "    }\n",
       "\n",
       "    .dataframe thead th {\n",
       "        text-align: right;\n",
       "    }\n",
       "</style>\n",
       "<table border=\"1\" class=\"dataframe\">\n",
       "  <thead>\n",
       "    <tr style=\"text-align: right;\">\n",
       "      <th></th>\n",
       "      <th>Тверь</th>\n",
       "      <th>Санкт-Петербург</th>\n",
       "      <th>Владимир</th>\n",
       "      <th>Троицк</th>\n",
       "      <th>Тула</th>\n",
       "      <th>Тамбов</th>\n",
       "      <th>Смоленск</th>\n",
       "      <th>Саратов</th>\n",
       "      <th>Самара</th>\n",
       "      <th>Рыбинск</th>\n",
       "      <th>Коломна</th>\n",
       "      <th>Вязьма</th>\n",
       "      <th>Москва</th>\n",
       "    </tr>\n",
       "  </thead>\n",
       "  <tbody>\n",
       "    <tr>\n",
       "      <th>0</th>\n",
       "      <td>5.098655</td>\n",
       "      <td>-11.2</td>\n",
       "      <td>4.747833</td>\n",
       "      <td>-25.3</td>\n",
       "      <td>5.799779</td>\n",
       "      <td>-16.4</td>\n",
       "      <td>-14.7</td>\n",
       "      <td>6.593333</td>\n",
       "      <td>-20.8</td>\n",
       "      <td>-17.1</td>\n",
       "      <td>-16.3</td>\n",
       "      <td>4.959866</td>\n",
       "      <td>-14.9</td>\n",
       "    </tr>\n",
       "    <tr>\n",
       "      <th>1</th>\n",
       "      <td>5.098655</td>\n",
       "      <td>-4.1</td>\n",
       "      <td>4.747833</td>\n",
       "      <td>-14.6</td>\n",
       "      <td>5.799779</td>\n",
       "      <td>-11.6</td>\n",
       "      <td>-6.5</td>\n",
       "      <td>6.593333</td>\n",
       "      <td>-11.5</td>\n",
       "      <td>-9.9</td>\n",
       "      <td>-10.4</td>\n",
       "      <td>4.959866</td>\n",
       "      <td>-7.4</td>\n",
       "    </tr>\n",
       "    <tr>\n",
       "      <th>2</th>\n",
       "      <td>5.098655</td>\n",
       "      <td>-2.4</td>\n",
       "      <td>4.747833</td>\n",
       "      <td>-9.3</td>\n",
       "      <td>5.799779</td>\n",
       "      <td>-3.5</td>\n",
       "      <td>-2.6</td>\n",
       "      <td>6.593333</td>\n",
       "      <td>-5.2</td>\n",
       "      <td>-5.8</td>\n",
       "      <td>-3.7</td>\n",
       "      <td>4.959866</td>\n",
       "      <td>-2.5</td>\n",
       "    </tr>\n",
       "    <tr>\n",
       "      <th>3</th>\n",
       "      <td>5.098655</td>\n",
       "      <td>3.2</td>\n",
       "      <td>4.747833</td>\n",
       "      <td>6.4</td>\n",
       "      <td>5.799779</td>\n",
       "      <td>8.3</td>\n",
       "      <td>5.2</td>\n",
       "      <td>6.593333</td>\n",
       "      <td>8.3</td>\n",
       "      <td>4.3</td>\n",
       "      <td>5.7</td>\n",
       "      <td>4.959866</td>\n",
       "      <td>5.9</td>\n",
       "    </tr>\n",
       "    <tr>\n",
       "      <th>4</th>\n",
       "      <td>5.098655</td>\n",
       "      <td>10.3</td>\n",
       "      <td>4.747833</td>\n",
       "      <td>13.3</td>\n",
       "      <td>5.799779</td>\n",
       "      <td>15.2</td>\n",
       "      <td>12.4</td>\n",
       "      <td>6.593333</td>\n",
       "      <td>15.0</td>\n",
       "      <td>10.3</td>\n",
       "      <td>12.6</td>\n",
       "      <td>4.959866</td>\n",
       "      <td>12.6</td>\n",
       "    </tr>\n",
       "  </tbody>\n",
       "</table>\n",
       "</div>"
      ],
      "text/plain": [
       "      Тверь  Санкт-Петербург  Владимир  Троицк      Тула  Тамбов  Смоленск  \\\n",
       "0  5.098655            -11.2  4.747833   -25.3  5.799779   -16.4     -14.7   \n",
       "1  5.098655             -4.1  4.747833   -14.6  5.799779   -11.6      -6.5   \n",
       "2  5.098655             -2.4  4.747833    -9.3  5.799779    -3.5      -2.6   \n",
       "3  5.098655              3.2  4.747833     6.4  5.799779     8.3       5.2   \n",
       "4  5.098655             10.3  4.747833    13.3  5.799779    15.2      12.4   \n",
       "\n",
       "    Саратов  Самара  Рыбинск  Коломна    Вязьма  Москва  \n",
       "0  6.593333   -20.8    -17.1    -16.3  4.959866   -14.9  \n",
       "1  6.593333   -11.5     -9.9    -10.4  4.959866    -7.4  \n",
       "2  6.593333    -5.2     -5.8     -3.7  4.959866    -2.5  \n",
       "3  6.593333     8.3      4.3      5.7  4.959866     5.9  \n",
       "4  6.593333    15.0     10.3     12.6  4.959866    12.6  "
      ]
     },
     "execution_count": 7,
     "metadata": {},
     "output_type": "execute_result"
    }
   ],
   "source": [
    "df.head(5)"
   ]
  },
  {
   "cell_type": "code",
   "execution_count": 26,
   "id": "dec71671",
   "metadata": {},
   "outputs": [
    {
     "data": {
      "image/png": "[encoded data removed]",
      "text/plain": [
       "<Figure size 432x288 with 9 Axes>"
      ]
     },
     "metadata": {
      "needs_background": "light"
     },
     "output_type": "display_data"
    }
   ],
   "source": [
    "pd.plotting.scatter_matrix(df.iloc [:, 10:13]);"
   ]
  },
  {
   "cell_type": "code",
   "execution_count": 9,
   "id": "5042f53a",
   "metadata": {},
   "outputs": [
    {
     "data": {
      "text/html": [
       "<div>\n",
       "<style scoped>\n",
       "    .dataframe tbody tr th:only-of-type {\n",
       "        vertical-align: middle;\n",
       "    }\n",
       "\n",
       "    .dataframe tbody tr th {\n",
       "        vertical-align: top;\n",
       "    }\n",
       "\n",
       "    .dataframe thead th {\n",
       "        text-align: right;\n",
       "    }\n",
       "</style>\n",
       "<table border=\"1\" class=\"dataframe\">\n",
       "  <thead>\n",
       "    <tr style=\"text-align: right;\">\n",
       "      <th></th>\n",
       "      <th>Тверь</th>\n",
       "      <th>Санкт-Петербург</th>\n",
       "      <th>Владимир</th>\n",
       "      <th>Троицк</th>\n",
       "      <th>Тула</th>\n",
       "      <th>Тамбов</th>\n",
       "      <th>Смоленск</th>\n",
       "      <th>Саратов</th>\n",
       "      <th>Самара</th>\n",
       "      <th>Рыбинск</th>\n",
       "      <th>Коломна</th>\n",
       "      <th>Вязьма</th>\n",
       "      <th>Москва</th>\n",
       "    </tr>\n",
       "  </thead>\n",
       "  <tbody>\n",
       "    <tr>\n",
       "      <th>0</th>\n",
       "      <td>5.1</td>\n",
       "      <td>-11.2</td>\n",
       "      <td>4.7</td>\n",
       "      <td>-25.3</td>\n",
       "      <td>5.8</td>\n",
       "      <td>-16.4</td>\n",
       "      <td>-14.7</td>\n",
       "      <td>6.6</td>\n",
       "      <td>-20.8</td>\n",
       "      <td>-17.1</td>\n",
       "      <td>-16.3</td>\n",
       "      <td>5.0</td>\n",
       "      <td>-14.9</td>\n",
       "    </tr>\n",
       "    <tr>\n",
       "      <th>1</th>\n",
       "      <td>5.1</td>\n",
       "      <td>-4.1</td>\n",
       "      <td>4.7</td>\n",
       "      <td>-14.6</td>\n",
       "      <td>5.8</td>\n",
       "      <td>-11.6</td>\n",
       "      <td>-6.5</td>\n",
       "      <td>6.6</td>\n",
       "      <td>-11.5</td>\n",
       "      <td>-9.9</td>\n",
       "      <td>-10.4</td>\n",
       "      <td>5.0</td>\n",
       "      <td>-7.4</td>\n",
       "    </tr>\n",
       "    <tr>\n",
       "      <th>2</th>\n",
       "      <td>5.1</td>\n",
       "      <td>-2.4</td>\n",
       "      <td>4.7</td>\n",
       "      <td>-9.3</td>\n",
       "      <td>5.8</td>\n",
       "      <td>-3.5</td>\n",
       "      <td>-2.6</td>\n",
       "      <td>6.6</td>\n",
       "      <td>-5.2</td>\n",
       "      <td>-5.8</td>\n",
       "      <td>-3.7</td>\n",
       "      <td>5.0</td>\n",
       "      <td>-2.5</td>\n",
       "    </tr>\n",
       "    <tr>\n",
       "      <th>3</th>\n",
       "      <td>5.1</td>\n",
       "      <td>3.2</td>\n",
       "      <td>4.7</td>\n",
       "      <td>6.4</td>\n",
       "      <td>5.8</td>\n",
       "      <td>8.3</td>\n",
       "      <td>5.2</td>\n",
       "      <td>6.6</td>\n",
       "      <td>8.3</td>\n",
       "      <td>4.3</td>\n",
       "      <td>5.7</td>\n",
       "      <td>5.0</td>\n",
       "      <td>5.9</td>\n",
       "    </tr>\n",
       "    <tr>\n",
       "      <th>4</th>\n",
       "      <td>5.1</td>\n",
       "      <td>10.3</td>\n",
       "      <td>4.7</td>\n",
       "      <td>13.3</td>\n",
       "      <td>5.8</td>\n",
       "      <td>15.2</td>\n",
       "      <td>12.4</td>\n",
       "      <td>6.6</td>\n",
       "      <td>15.0</td>\n",
       "      <td>10.3</td>\n",
       "      <td>12.6</td>\n",
       "      <td>5.0</td>\n",
       "      <td>12.6</td>\n",
       "    </tr>\n",
       "  </tbody>\n",
       "</table>\n",
       "</div>"
      ],
      "text/plain": [
       "   Тверь  Санкт-Петербург  Владимир  Троицк  Тула  Тамбов  Смоленск  Саратов  \\\n",
       "0    5.1            -11.2       4.7   -25.3   5.8   -16.4     -14.7      6.6   \n",
       "1    5.1             -4.1       4.7   -14.6   5.8   -11.6      -6.5      6.6   \n",
       "2    5.1             -2.4       4.7    -9.3   5.8    -3.5      -2.6      6.6   \n",
       "3    5.1              3.2       4.7     6.4   5.8     8.3       5.2      6.6   \n",
       "4    5.1             10.3       4.7    13.3   5.8    15.2      12.4      6.6   \n",
       "\n",
       "   Самара  Рыбинск  Коломна  Вязьма  Москва  \n",
       "0   -20.8    -17.1    -16.3     5.0   -14.9  \n",
       "1   -11.5     -9.9    -10.4     5.0    -7.4  \n",
       "2    -5.2     -5.8     -3.7     5.0    -2.5  \n",
       "3     8.3      4.3      5.7     5.0     5.9  \n",
       "4    15.0     10.3     12.6     5.0    12.6  "
      ]
     },
     "execution_count": 9,
     "metadata": {},
     "output_type": "execute_result"
    }
   ],
   "source": [
    "df = np.round(df, decimals = 1) \n",
    "df.head(5)"
   ]
  },
  {
   "cell_type": "code",
   "execution_count": 10,
   "id": "a82e0064",
   "metadata": {},
   "outputs": [
    {
     "data": {
      "image/png": "[encoded data removed]",
      "text/plain": [
       "<Figure size 432x288 with 1 Axes>"
      ]
     },
     "metadata": {
      "needs_background": "light"
     },
     "output_type": "display_data"
    }
   ],
   "source": [
    "plt.figure(figsize=(6, 4))\n",
    "\n",
    "sns.histplot(df.Москва, bins=40, color='black', alpha=1)\n",
    "plt.ylabel('Frequency')\n",
    "plt.xlabel('Temperature')\n",
    "plt.title('Temperature in Moscow')\n",
    "\n",
    "plt.show()"
   ]
  },
  {
   "cell_type": "code",
   "execution_count": 11,
   "id": "75c7ee60",
   "metadata": {},
   "outputs": [],
   "source": [
    "from sklearn.preprocessing import StandardScaler\n",
    "StandardScaler?"
   ]
  },
  {
   "cell_type": "code",
   "execution_count": 12,
   "id": "5849933e",
   "metadata": {},
   "outputs": [],
   "source": [
    "from sklearn.linear_model import LinearRegression"
   ]
  },
  {
   "cell_type": "code",
   "execution_count": 13,
   "id": "4922a827",
   "metadata": {},
   "outputs": [],
   "source": [
    "from sklearn.preprocessing import StandardScaler\n",
    "from sklearn.metrics import mean_squared_error, mean_absolute_error"
   ]
  },
  {
   "cell_type": "code",
   "execution_count": 14,
   "id": "156a3ea2",
   "metadata": {},
   "outputs": [],
   "source": [
    "from sklearn.preprocessing import StandardScaler\n",
    "from sklearn.model_selection import train_test_split\n",
    "\n",
    "X_train, X_test, y_train, y_test = train_test_split(df.drop('Москва', axis=1), df.Москва, \\\n",
    "                                                    test_size=0.33, random_state=42)\n",
    "scaler = StandardScaler()\n",
    "X_train = scaler.fit_transform(X_train)\n",
    "X_test = scaler.transform(X_test)"
   ]
  },
  {
   "cell_type": "code",
   "execution_count": 15,
   "id": "b073a0f6",
   "metadata": {},
   "outputs": [
    {
     "name": "stdout",
     "output_type": "stream",
     "text": [
      "Test MSE = 0.2512\n",
      "Train MSE = 0.1693\n"
     ]
    }
   ],
   "source": [
    "model = LinearRegression()\n",
    "model.fit(X_train, y_train)\n",
    "y_pred = model.predict(X_test)\n",
    "y_train_pred = model.predict(X_train)\n",
    "\n",
    "print(\"Test MSE = %.4f\" % mean_squared_error(y_test, y_pred))\n",
    "print(\"Train MSE = %.4f\" % mean_squared_error(y_train, y_train_pred))"
   ]
  },
  {
   "cell_type": "code",
   "execution_count": 16,
   "id": "82cb8615",
   "metadata": {},
   "outputs": [
    {
     "data": {
      "text/plain": [
       "0.33285914169927217"
      ]
     },
     "execution_count": 16,
     "metadata": {},
     "output_type": "execute_result"
    }
   ],
   "source": [
    "mean_absolute_error(y_test, y_pred)"
   ]
  },
  {
   "cell_type": "code",
   "execution_count": 17,
   "id": "136a3ff9",
   "metadata": {},
   "outputs": [
    {
     "data": {
      "text/plain": [
       "0.05624690197695581"
      ]
     },
     "execution_count": 17,
     "metadata": {},
     "output_type": "execute_result"
    }
   ],
   "source": [
    "mean_absolute_error(y_test, y_pred)/np.mean(y_test)"
   ]
  },
  {
   "cell_type": "code",
   "execution_count": 18,
   "id": "130a218a",
   "metadata": {},
   "outputs": [
    {
     "name": "stdout",
     "output_type": "stream",
     "text": [
      "Test MSE = 0.7752\n",
      "Train MSE = 0.4812\n"
     ]
    }
   ],
   "source": [
    "from sklearn.linear_model import Ridge\n",
    "\n",
    "model = Ridge(alpha = 100)\n",
    "model.fit(X_train, y_train)\n",
    "y_pred = model.predict(X_test)\n",
    "y_train_pred = model.predict(X_train)\n",
    "\n",
    "print(\"Test MSE = %.4f\" % mean_squared_error(y_test, y_pred))\n",
    "print(\"Train MSE = %.4f\" % mean_squared_error(y_train, y_train_pred))"
   ]
  },
  {
   "cell_type": "code",
   "execution_count": 19,
   "id": "e6228a1a",
   "metadata": {},
   "outputs": [
    {
     "data": {
      "text/plain": [
       "0.5172277846963239"
      ]
     },
     "execution_count": 19,
     "metadata": {},
     "output_type": "execute_result"
    }
   ],
   "source": [
    "mean_absolute_error(y_test, y_pred)"
   ]
  },
  {
   "cell_type": "code",
   "execution_count": 20,
   "id": "6a1184cf",
   "metadata": {},
   "outputs": [
    {
     "name": "stdout",
     "output_type": "stream",
     "text": [
      "Test MSE = 0.9774\n",
      "Train MSE = 0.6466\n"
     ]
    }
   ],
   "source": [
    "from sklearn.linear_model import ElasticNet\n",
    "model = ElasticNet(alpha = 0.5,  l1_ratio= 0.5)\n",
    "model.fit(X_train, y_train)\n",
    "y_pred = model.predict(X_test)\n",
    "y_train_pred = model.predict(X_train)\n",
    "\n",
    "print(\"Test MSE = %.4f\" % mean_squared_error(y_test, y_pred))\n",
    "print(\"Train MSE = %.4f\" % mean_squared_error(y_train, y_train_pred))"
   ]
  },
  {
   "cell_type": "code",
   "execution_count": 39,
   "id": "80add4d8",
   "metadata": {},
   "outputs": [
    {
     "data": {
      "text/plain": [
       "0.6177018930653659"
      ]
     },
     "execution_count": 39,
     "metadata": {},
     "output_type": "execute_result"
    }
   ],
   "source": [
    "mean_absolute_error(y_test, y_pred)"
   ]
  },
  {
   "cell_type": "code",
   "execution_count": null,
   "id": "86a26266",
   "metadata": {},
   "outputs": [],
   "source": []
  }
 ],
 "metadata": {
  "kernelspec": {
   "display_name": "Python 3 (ipykernel)",
   "language": "python",
   "name": "python3"
  },
  "language_info": {
   "codemirror_mode": {
    "name": "ipython",
    "version": 3
   },
   "file_extension": ".py",
   "mimetype": "text/x-python",
   "name": "python",
   "nbconvert_exporter": "python",
   "pygments_lexer": "ipython3",
   "version": "3.9.12"
  }
 },
 "nbformat": 4,
 "nbformat_minor": 5
}
