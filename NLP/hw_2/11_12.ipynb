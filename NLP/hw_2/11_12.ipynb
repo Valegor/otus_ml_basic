{
 "cells": [
  {
   "cell_type": "code",
   "execution_count": 1,
   "id": "53168bf3",
   "metadata": {},
   "outputs": [],
   "source": [
    "import torch\n",
    "import matplotlib.pyplot as plt\n",
    "import random\n",
    "import math\n",
    "from torch.autograd import Variable\n",
    "import pandas as pd\n",
    "import numpy as np"
   ]
  },
  {
   "cell_type": "code",
   "execution_count": 2,
   "id": "2e81cac6",
   "metadata": {},
   "outputs": [],
   "source": [
    "import matplotlib\n",
    "matplotlib.rcParams['figure.figsize'] = (13.0, 5.0)\n",
    "%matplotlib inline"
   ]
  },
  {
   "cell_type": "code",
   "execution_count": 3,
   "id": "4a895bf9",
   "metadata": {},
   "outputs": [
    {
     "data": {
      "text/plain": [
       "True"
      ]
     },
     "execution_count": 3,
     "metadata": {},
     "output_type": "execute_result"
    }
   ],
   "source": [
    "torch.cuda.is_available()"
   ]
  },
  {
   "cell_type": "code",
   "execution_count": 4,
   "id": "7f405588",
   "metadata": {},
   "outputs": [],
   "source": [
    "def myFunction(x, y):\n",
    "    return math.sin(x + 2*y)*math.exp(-  pow((2*x + y), 2))"
   ]
  },
  {
   "cell_type": "code",
   "execution_count": 5,
   "id": "aacda37a",
   "metadata": {},
   "outputs": [],
   "source": [
    "def randomDif():\n",
    "    x = random.randrange(0, 1000)/100\n",
    "    y = random.randint(0, 1)\n",
    "    if y==1:\n",
    "        return x\n",
    "    else:\n",
    "        return x*-1"
   ]
  },
  {
   "cell_type": "code",
   "execution_count": 6,
   "id": "1baf9db9",
   "metadata": {},
   "outputs": [],
   "source": [
    "dataset_array = []"
   ]
  },
  {
   "cell_type": "code",
   "execution_count": 7,
   "id": "2ce998bf",
   "metadata": {},
   "outputs": [],
   "source": [
    "number = 0\n",
    "while number < 20000:\n",
    "    x = randomDif()\n",
    "    y = randomDif()\n",
    "    z = myFunction(x, y)\n",
    "    dataset_array.append([x, y, z])\n",
    "    number += 1"
   ]
  },
  {
   "cell_type": "code",
   "execution_count": 8,
   "id": "6c1b51c3",
   "metadata": {},
   "outputs": [],
   "source": [
    "dataframe = pd.DataFrame(dataset_array)"
   ]
  },
  {
   "cell_type": "code",
   "execution_count": 9,
   "id": "0feb1b86",
   "metadata": {},
   "outputs": [
    {
     "data": {
      "text/html": [
       "<div>\n",
       "<style scoped>\n",
       "    .dataframe tbody tr th:only-of-type {\n",
       "        vertical-align: middle;\n",
       "    }\n",
       "\n",
       "    .dataframe tbody tr th {\n",
       "        vertical-align: top;\n",
       "    }\n",
       "\n",
       "    .dataframe thead th {\n",
       "        text-align: right;\n",
       "    }\n",
       "</style>\n",
       "<table border=\"1\" class=\"dataframe\">\n",
       "  <thead>\n",
       "    <tr style=\"text-align: right;\">\n",
       "      <th></th>\n",
       "      <th>0</th>\n",
       "      <th>1</th>\n",
       "      <th>2</th>\n",
       "    </tr>\n",
       "  </thead>\n",
       "  <tbody>\n",
       "    <tr>\n",
       "      <th>0</th>\n",
       "      <td>2.01</td>\n",
       "      <td>2.38</td>\n",
       "      <td>7.609749e-19</td>\n",
       "    </tr>\n",
       "    <tr>\n",
       "      <th>1</th>\n",
       "      <td>-6.37</td>\n",
       "      <td>3.38</td>\n",
       "      <td>3.401207e-39</td>\n",
       "    </tr>\n",
       "    <tr>\n",
       "      <th>2</th>\n",
       "      <td>9.07</td>\n",
       "      <td>5.74</td>\n",
       "      <td>2.177713e-248</td>\n",
       "    </tr>\n",
       "  </tbody>\n",
       "</table>\n",
       "</div>"
      ],
      "text/plain": [
       "      0     1              2\n",
       "0  2.01  2.38   7.609749e-19\n",
       "1 -6.37  3.38   3.401207e-39\n",
       "2  9.07  5.74  2.177713e-248"
      ]
     },
     "execution_count": 9,
     "metadata": {},
     "output_type": "execute_result"
    }
   ],
   "source": [
    "dataframe.head(3)"
   ]
  },
  {
   "cell_type": "code",
   "execution_count": 10,
   "id": "b2f92951",
   "metadata": {},
   "outputs": [],
   "source": [
    "train_df = dataframe.iloc [:13999]\n",
    "test_df = dataframe.iloc [14000:16999]\n",
    "val_df = dataframe.iloc [17000:]"
   ]
  },
  {
   "cell_type": "code",
   "execution_count": 11,
   "id": "2b8f59b1",
   "metadata": {},
   "outputs": [],
   "source": [
    "y_train = torch.tensor(train_df[2].values)\n",
    "y_validation = torch.tensor(test_df[2].values)\n",
    "y_test = torch.tensor(val_df[2].values)"
   ]
  },
  {
   "cell_type": "code",
   "execution_count": 12,
   "id": "bcc06f62",
   "metadata": {},
   "outputs": [],
   "source": [
    "train_df = train_df.drop(train_df.columns[[2]], axis=1) \n",
    "test_df = test_df.drop(test_df.columns[[2]], axis=1) \n",
    "val_df = val_df.drop(val_df.columns[[2]], axis=1) "
   ]
  },
  {
   "cell_type": "code",
   "execution_count": 13,
   "id": "0885b122",
   "metadata": {},
   "outputs": [],
   "source": [
    "x_train = torch.tensor(train_df.values)\n",
    "x_validation = torch.tensor(val_df.values)\n",
    "x_test = torch.tensor(test_df.values)"
   ]
  },
  {
   "cell_type": "code",
   "execution_count": 14,
   "id": "7b5e1f25",
   "metadata": {},
   "outputs": [
    {
     "data": {
      "text/plain": [
       "tensor([[ 2.0100,  2.3800],\n",
       "        [-6.3700,  3.3800],\n",
       "        [ 9.0700,  5.7400],\n",
       "        ...,\n",
       "        [-9.2400,  0.1900],\n",
       "        [ 0.5400, -0.8100],\n",
       "        [-3.2400,  3.2200]], dtype=torch.float64)"
      ]
     },
     "metadata": {},
     "output_type": "display_data"
    }
   ],
   "source": [
    "display(x_train) "
   ]
  },
  {
   "cell_type": "code",
   "execution_count": 15,
   "id": "ace8ec54",
   "metadata": {},
   "outputs": [
    {
     "data": {
      "text/plain": [
       "tensor([  7.6097e-19,   3.4012e-39,  2.1777e-248,  ..., -2.7962e-146,\n",
       "         -8.1995e-01,  -1.4149e-06], dtype=torch.float64)"
      ]
     },
     "metadata": {},
     "output_type": "display_data"
    }
   ],
   "source": [
    "display(y_train) "
   ]
  },
  {
   "cell_type": "code",
   "execution_count": 16,
   "id": "63494ebc",
   "metadata": {},
   "outputs": [
    {
     "data": {
      "text/plain": [
       "tensor([[ 4.9200,  9.7400],\n",
       "        [ 1.0000, -9.5800],\n",
       "        [ 4.9600,  9.9600],\n",
       "        ...,\n",
       "        [ 9.8200, -7.5100],\n",
       "        [ 8.1400, -8.7100],\n",
       "        [-0.1000,  1.4300]], dtype=torch.float64)"
      ]
     },
     "metadata": {},
     "output_type": "display_data"
    }
   ],
   "source": [
    "display(x_validation) "
   ]
  },
  {
   "cell_type": "code",
   "execution_count": 17,
   "id": "2e1640be",
   "metadata": {},
   "outputs": [
    {
     "data": {
      "text/plain": [
       "tensor([ 3.0104e-06, 8.0025e-109, 1.4749e-100,  ..., -2.0220e-01,\n",
       "        3.8038e-191,  5.9620e-09], dtype=torch.float64)"
      ]
     },
     "metadata": {},
     "output_type": "display_data"
    }
   ],
   "source": [
    "display(y_validation) "
   ]
  },
  {
   "cell_type": "code",
   "execution_count": 18,
   "id": "a8c6e032",
   "metadata": {},
   "outputs": [
    {
     "data": {
      "text/plain": [
       "tensor([[ 6.3300, -9.2000],\n",
       "        [-6.6400, -2.4900],\n",
       "        [-6.5400, -2.0800],\n",
       "        ...,\n",
       "        [ 4.2500, -8.5100],\n",
       "        [ 6.8700,  7.1900],\n",
       "        [ 0.5800, -5.4900]], dtype=torch.float64)"
      ]
     },
     "metadata": {},
     "output_type": "display_data"
    }
   ],
   "source": [
    "display(x_test) "
   ]
  },
  {
   "cell_type": "code",
   "execution_count": 19,
   "id": "d4c27cdd",
   "metadata": {},
   "outputs": [
    {
     "data": {
      "text/plain": [
       "tensor([-2.1238e-167,   7.0891e-26, -5.7360e-173,  ...,   1.1103e-64,\n",
       "         -1.8706e-26,   8.2028e-02], dtype=torch.float64)"
      ]
     },
     "metadata": {},
     "output_type": "display_data"
    }
   ],
   "source": [
    "display(y_test) "
   ]
  },
  {
   "cell_type": "code",
   "execution_count": 20,
   "id": "6b1c07b4",
   "metadata": {},
   "outputs": [],
   "source": [
    "x_train = x_train.to(torch.float)\n",
    "x_validation = x_validation.to(torch.float)\n",
    "x_test = x_test.to(torch.float)\n",
    "y_train = y_train.to(torch.float)\n",
    "y_validation = y_validation.to(torch.float)\n",
    "y_test = y_test.to(torch.float)"
   ]
  },
  {
   "cell_type": "code",
   "execution_count": 21,
   "id": "09e4c8c8",
   "metadata": {},
   "outputs": [
    {
     "data": {
      "text/plain": [
       "tensor([[ 2.0100,  2.3800],\n",
       "        [-6.3700,  3.3800],\n",
       "        [ 9.0700,  5.7400],\n",
       "        ...,\n",
       "        [-9.2400,  0.1900],\n",
       "        [ 0.5400, -0.8100],\n",
       "        [-3.2400,  3.2200]])"
      ]
     },
     "metadata": {},
     "output_type": "display_data"
    }
   ],
   "source": [
    "display(x_train) "
   ]
  },
  {
   "cell_type": "code",
   "execution_count": 22,
   "id": "d74b1ef6",
   "metadata": {},
   "outputs": [],
   "source": [
    "class NeuroeNet(torch.nn.Module):\n",
    "    def __init__(self, n_hidden_neurons):\n",
    "        super(NeuroeNet, self).__init__()\n",
    "        self.fc1 = torch.nn.Linear(1, n_hidden_neurons)\n",
    "        self.act1 = torch.nn.Sigmoid()\n",
    "        self.fc2 = torch.nn.Linear(n_hidden_neurons, 1)\n",
    "\n",
    "    def forward(self, x):\n",
    "        x = self.fc1(x)\n",
    "        x = self.act1(x)\n",
    "        x = self.fc2(x)\n",
    "        return x\n",
    "\n",
    "neuro_net = NeuroeNet(3)"
   ]
  },
  {
   "cell_type": "code",
   "execution_count": 23,
   "id": "19b844a6",
   "metadata": {},
   "outputs": [],
   "source": [
    "def predict(net, x, y):\n",
    "    y_pred = net.forward(x)"
   ]
  },
  {
   "cell_type": "code",
   "execution_count": 24,
   "id": "74ddfb67",
   "metadata": {},
   "outputs": [
    {
     "ename": "RuntimeError",
     "evalue": "mat1 and mat2 shapes cannot be multiplied (3000x2 and 1x3)",
     "output_type": "error",
     "traceback": [
      "\u001b[1;31m---------------------------------------------------------------------------\u001b[0m",
      "\u001b[1;31mRuntimeError\u001b[0m                              Traceback (most recent call last)",
      "Cell \u001b[1;32mIn[24], line 1\u001b[0m\n\u001b[1;32m----> 1\u001b[0m predict(neuro_net, x_validation, y_validation)\n",
      "Cell \u001b[1;32mIn[23], line 2\u001b[0m, in \u001b[0;36mpredict\u001b[1;34m(net, x, y)\u001b[0m\n\u001b[0;32m      1\u001b[0m \u001b[38;5;28;01mdef\u001b[39;00m \u001b[38;5;21mpredict\u001b[39m(net, x, y):\n\u001b[1;32m----> 2\u001b[0m     y_pred \u001b[38;5;241m=\u001b[39m net\u001b[38;5;241m.\u001b[39mforward(x)\n",
      "Cell \u001b[1;32mIn[22], line 9\u001b[0m, in \u001b[0;36mNeuroeNet.forward\u001b[1;34m(self, x)\u001b[0m\n\u001b[0;32m      8\u001b[0m \u001b[38;5;28;01mdef\u001b[39;00m \u001b[38;5;21mforward\u001b[39m(\u001b[38;5;28mself\u001b[39m, x):\n\u001b[1;32m----> 9\u001b[0m     x \u001b[38;5;241m=\u001b[39m \u001b[38;5;28mself\u001b[39m\u001b[38;5;241m.\u001b[39mfc1(x)\n\u001b[0;32m     10\u001b[0m     x \u001b[38;5;241m=\u001b[39m \u001b[38;5;28mself\u001b[39m\u001b[38;5;241m.\u001b[39mact1(x)\n\u001b[0;32m     11\u001b[0m     x \u001b[38;5;241m=\u001b[39m \u001b[38;5;28mself\u001b[39m\u001b[38;5;241m.\u001b[39mfc2(x)\n",
      "File \u001b[1;32m~\\anaconda3\\Lib\\site-packages\\torch\\nn\\modules\\module.py:1518\u001b[0m, in \u001b[0;36mModule._wrapped_call_impl\u001b[1;34m(self, *args, **kwargs)\u001b[0m\n\u001b[0;32m   1516\u001b[0m     \u001b[38;5;28;01mreturn\u001b[39;00m \u001b[38;5;28mself\u001b[39m\u001b[38;5;241m.\u001b[39m_compiled_call_impl(\u001b[38;5;241m*\u001b[39margs, \u001b[38;5;241m*\u001b[39m\u001b[38;5;241m*\u001b[39mkwargs)  \u001b[38;5;66;03m# type: ignore[misc]\u001b[39;00m\n\u001b[0;32m   1517\u001b[0m \u001b[38;5;28;01melse\u001b[39;00m:\n\u001b[1;32m-> 1518\u001b[0m     \u001b[38;5;28;01mreturn\u001b[39;00m \u001b[38;5;28mself\u001b[39m\u001b[38;5;241m.\u001b[39m_call_impl(\u001b[38;5;241m*\u001b[39margs, \u001b[38;5;241m*\u001b[39m\u001b[38;5;241m*\u001b[39mkwargs)\n",
      "File \u001b[1;32m~\\anaconda3\\Lib\\site-packages\\torch\\nn\\modules\\module.py:1527\u001b[0m, in \u001b[0;36mModule._call_impl\u001b[1;34m(self, *args, **kwargs)\u001b[0m\n\u001b[0;32m   1522\u001b[0m \u001b[38;5;66;03m# If we don't have any hooks, we want to skip the rest of the logic in\u001b[39;00m\n\u001b[0;32m   1523\u001b[0m \u001b[38;5;66;03m# this function, and just call forward.\u001b[39;00m\n\u001b[0;32m   1524\u001b[0m \u001b[38;5;28;01mif\u001b[39;00m \u001b[38;5;129;01mnot\u001b[39;00m (\u001b[38;5;28mself\u001b[39m\u001b[38;5;241m.\u001b[39m_backward_hooks \u001b[38;5;129;01mor\u001b[39;00m \u001b[38;5;28mself\u001b[39m\u001b[38;5;241m.\u001b[39m_backward_pre_hooks \u001b[38;5;129;01mor\u001b[39;00m \u001b[38;5;28mself\u001b[39m\u001b[38;5;241m.\u001b[39m_forward_hooks \u001b[38;5;129;01mor\u001b[39;00m \u001b[38;5;28mself\u001b[39m\u001b[38;5;241m.\u001b[39m_forward_pre_hooks\n\u001b[0;32m   1525\u001b[0m         \u001b[38;5;129;01mor\u001b[39;00m _global_backward_pre_hooks \u001b[38;5;129;01mor\u001b[39;00m _global_backward_hooks\n\u001b[0;32m   1526\u001b[0m         \u001b[38;5;129;01mor\u001b[39;00m _global_forward_hooks \u001b[38;5;129;01mor\u001b[39;00m _global_forward_pre_hooks):\n\u001b[1;32m-> 1527\u001b[0m     \u001b[38;5;28;01mreturn\u001b[39;00m forward_call(\u001b[38;5;241m*\u001b[39margs, \u001b[38;5;241m*\u001b[39m\u001b[38;5;241m*\u001b[39mkwargs)\n\u001b[0;32m   1529\u001b[0m \u001b[38;5;28;01mtry\u001b[39;00m:\n\u001b[0;32m   1530\u001b[0m     result \u001b[38;5;241m=\u001b[39m \u001b[38;5;28;01mNone\u001b[39;00m\n",
      "File \u001b[1;32m~\\anaconda3\\Lib\\site-packages\\torch\\nn\\modules\\linear.py:114\u001b[0m, in \u001b[0;36mLinear.forward\u001b[1;34m(self, input)\u001b[0m\n\u001b[0;32m    113\u001b[0m \u001b[38;5;28;01mdef\u001b[39;00m \u001b[38;5;21mforward\u001b[39m(\u001b[38;5;28mself\u001b[39m, \u001b[38;5;28minput\u001b[39m: Tensor) \u001b[38;5;241m-\u001b[39m\u001b[38;5;241m>\u001b[39m Tensor:\n\u001b[1;32m--> 114\u001b[0m     \u001b[38;5;28;01mreturn\u001b[39;00m F\u001b[38;5;241m.\u001b[39mlinear(\u001b[38;5;28minput\u001b[39m, \u001b[38;5;28mself\u001b[39m\u001b[38;5;241m.\u001b[39mweight, \u001b[38;5;28mself\u001b[39m\u001b[38;5;241m.\u001b[39mbias)\n",
      "\u001b[1;31mRuntimeError\u001b[0m: mat1 and mat2 shapes cannot be multiplied (3000x2 and 1x3)"
     ]
    }
   ],
   "source": [
    "predict(neuro_net, x_validation, y_validation)"
   ]
  },
  {
   "cell_type": "code",
   "execution_count": null,
   "id": "26673e3d",
   "metadata": {},
   "outputs": [],
   "source": []
  }
 ],
 "metadata": {
  "kernelspec": {
   "display_name": "Python 3 (ipykernel)",
   "language": "python",
   "name": "python3"
  },
  "language_info": {
   "codemirror_mode": {
    "name": "ipython",
    "version": 3
   },
   "file_extension": ".py",
   "mimetype": "text/x-python",
   "name": "python",
   "nbconvert_exporter": "python",
   "pygments_lexer": "ipython3",
   "version": "3.11.5"
  }
 },
 "nbformat": 4,
 "nbformat_minor": 5
}
