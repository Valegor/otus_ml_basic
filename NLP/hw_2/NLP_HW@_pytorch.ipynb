{
 "cells": [
  {
   "cell_type": "code",
   "execution_count": 1,
   "id": "d946c125",
   "metadata": {},
   "outputs": [],
   "source": [
    "import torch\n",
    "import numpy as np\n",
    "import warnings\n",
    "import matplotlib.pyplot as plt\n",
    "import pandas as pd\n",
    "import random\n",
    "import math\n",
    "\n",
    "\n",
    "from sklearn.datasets import make_moons\n",
    "from sklearn.model_selection import train_test_split\n",
    "from collections import Counter\n",
    "\n",
    "\n",
    "warnings.filterwarnings(\"ignore\", \"FutureWarning\")\n",
    "plt.style.use(\"dark_background\")\n",
    "\n",
    "# дополнительные импорты для задачи\n",
    "\n",
    "\n",
    "\n",
    "import torch\n",
    "from torch.autograd import Variable\n",
    "import torch.nn as nn\n",
    "import torch.nn.functional as F\n",
    "import torch.optim as optim\n",
    "\n",
    "import torch.nn as nn\n",
    "from torch.nn import functional as F\n",
    "from torch.utils.data import TensorDataset, DataLoader\n",
    "from torchmetrics import Accuracy\n",
    "from sklearn.datasets import make_moons\n",
    "from sklearn.model_selection import train_test_split\n",
    "from collections import Counter\n",
    "from tqdm.autonotebook import tqdm\n",
    "\n"
   ]
  },
  {
   "cell_type": "code",
   "execution_count": 2,
   "id": "af6ac945",
   "metadata": {},
   "outputs": [
    {
     "data": {
      "text/plain": [
       "False"
      ]
     },
     "execution_count": 2,
     "metadata": {},
     "output_type": "execute_result"
    }
   ],
   "source": [
    "torch.cuda.is_available()"
   ]
  },
  {
   "cell_type": "code",
   "execution_count": 3,
   "id": "7072fcd8",
   "metadata": {},
   "outputs": [
    {
     "data": {
      "text/plain": [
       "device(type='cuda', index=0)"
      ]
     },
     "execution_count": 3,
     "metadata": {},
     "output_type": "execute_result"
    }
   ],
   "source": [
    "torch.device('cuda:0')"
   ]
  },
  {
   "cell_type": "code",
   "execution_count": 4,
   "id": "f303780f",
   "metadata": {},
   "outputs": [],
   "source": [
    "def myFunction(x, y):\n",
    "    return math.sin(x + 2*y)*math.exp(-  pow((2*x + y), 2))"
   ]
  },
  {
   "cell_type": "code",
   "execution_count": 5,
   "id": "3428f8f2",
   "metadata": {},
   "outputs": [],
   "source": [
    "def randomDif():\n",
    "    x = random.randrange(0, 1000)/100\n",
    "    y = random.randint(0, 1)\n",
    "    if y==1:\n",
    "        return x\n",
    "    else:\n",
    "        return x*-1"
   ]
  },
  {
   "cell_type": "code",
   "execution_count": 6,
   "id": "53a925fd",
   "metadata": {},
   "outputs": [],
   "source": [
    "dataset_array_xy = []\n",
    "dataset_array_z = []"
   ]
  },
  {
   "cell_type": "code",
   "execution_count": 7,
   "id": "52d01f12",
   "metadata": {},
   "outputs": [],
   "source": [
    "number = 0\n",
    "while number < 20000:\n",
    "    x = randomDif()\n",
    "    y = randomDif()\n",
    "    z = myFunction(x, y)\n",
    "    dataset_array_xy.append([x, y])\n",
    "    dataset_array_z.append([z])\n",
    "    number += 1"
   ]
  },
  {
   "cell_type": "code",
   "execution_count": 8,
   "id": "4170583b",
   "metadata": {},
   "outputs": [],
   "source": [
    "dataframe_xy = pd.DataFrame(dataset_array_xy)"
   ]
  },
  {
   "cell_type": "code",
   "execution_count": 9,
   "id": "52447205",
   "metadata": {},
   "outputs": [],
   "source": [
    "dataframe_z = pd.DataFrame(dataset_array_z)"
   ]
  },
  {
   "cell_type": "code",
   "execution_count": 10,
   "id": "b4628b60",
   "metadata": {},
   "outputs": [
    {
     "data": {
      "text/html": [
       "<div>\n",
       "<style scoped>\n",
       "    .dataframe tbody tr th:only-of-type {\n",
       "        vertical-align: middle;\n",
       "    }\n",
       "\n",
       "    .dataframe tbody tr th {\n",
       "        vertical-align: top;\n",
       "    }\n",
       "\n",
       "    .dataframe thead th {\n",
       "        text-align: right;\n",
       "    }\n",
       "</style>\n",
       "<table border=\"1\" class=\"dataframe\">\n",
       "  <thead>\n",
       "    <tr style=\"text-align: right;\">\n",
       "      <th></th>\n",
       "      <th>0</th>\n",
       "      <th>1</th>\n",
       "    </tr>\n",
       "  </thead>\n",
       "  <tbody>\n",
       "    <tr>\n",
       "      <th>0</th>\n",
       "      <td>3.26</td>\n",
       "      <td>1.96</td>\n",
       "    </tr>\n",
       "    <tr>\n",
       "      <th>1</th>\n",
       "      <td>-7.66</td>\n",
       "      <td>7.43</td>\n",
       "    </tr>\n",
       "    <tr>\n",
       "      <th>2</th>\n",
       "      <td>8.82</td>\n",
       "      <td>-2.67</td>\n",
       "    </tr>\n",
       "  </tbody>\n",
       "</table>\n",
       "</div>"
      ],
      "text/plain": [
       "      0     1\n",
       "0  3.26  1.96\n",
       "1 -7.66  7.43\n",
       "2  8.82 -2.67"
      ]
     },
     "execution_count": 10,
     "metadata": {},
     "output_type": "execute_result"
    }
   ],
   "source": [
    "dataframe_xy.head(3)"
   ]
  },
  {
   "cell_type": "code",
   "execution_count": 11,
   "id": "0e740309",
   "metadata": {},
   "outputs": [
    {
     "data": {
      "text/html": [
       "<div>\n",
       "<style scoped>\n",
       "    .dataframe tbody tr th:only-of-type {\n",
       "        vertical-align: middle;\n",
       "    }\n",
       "\n",
       "    .dataframe tbody tr th {\n",
       "        vertical-align: top;\n",
       "    }\n",
       "\n",
       "    .dataframe thead th {\n",
       "        text-align: right;\n",
       "    }\n",
       "</style>\n",
       "<table border=\"1\" class=\"dataframe\">\n",
       "  <thead>\n",
       "    <tr style=\"text-align: right;\">\n",
       "      <th></th>\n",
       "      <th>0</th>\n",
       "    </tr>\n",
       "  </thead>\n",
       "  <tbody>\n",
       "    <tr>\n",
       "      <th>0</th>\n",
       "      <td>4.597818e-32</td>\n",
       "    </tr>\n",
       "    <tr>\n",
       "      <th>1</th>\n",
       "      <td>7.309628e-28</td>\n",
       "    </tr>\n",
       "    <tr>\n",
       "      <th>2</th>\n",
       "      <td>-1.567958e-98</td>\n",
       "    </tr>\n",
       "  </tbody>\n",
       "</table>\n",
       "</div>"
      ],
      "text/plain": [
       "              0\n",
       "0  4.597818e-32\n",
       "1  7.309628e-28\n",
       "2 -1.567958e-98"
      ]
     },
     "execution_count": 11,
     "metadata": {},
     "output_type": "execute_result"
    }
   ],
   "source": [
    "dataframe_z.head(3)"
   ]
  },
  {
   "cell_type": "code",
   "execution_count": 12,
   "id": "d471b6f5",
   "metadata": {},
   "outputs": [],
   "source": [
    "train_df_xy = dataframe_xy.iloc [:13999]\n",
    "test_df_xy = dataframe_xy.iloc [14000:16999]\n",
    "val_df_xy = dataframe_xy.iloc [17000:]"
   ]
  },
  {
   "cell_type": "code",
   "execution_count": 13,
   "id": "50e1259e",
   "metadata": {},
   "outputs": [],
   "source": [
    "train_df_z = dataframe_z.iloc [:13999]\n",
    "test_df_z = dataframe_z.iloc [14000:16999]\n",
    "val_df_z = dataframe_z.iloc [17000:]"
   ]
  },
  {
   "cell_type": "code",
   "execution_count": 14,
   "id": "b6ec7345",
   "metadata": {},
   "outputs": [
    {
     "data": {
      "text/html": [
       "<div>\n",
       "<style scoped>\n",
       "    .dataframe tbody tr th:only-of-type {\n",
       "        vertical-align: middle;\n",
       "    }\n",
       "\n",
       "    .dataframe tbody tr th {\n",
       "        vertical-align: top;\n",
       "    }\n",
       "\n",
       "    .dataframe thead th {\n",
       "        text-align: right;\n",
       "    }\n",
       "</style>\n",
       "<table border=\"1\" class=\"dataframe\">\n",
       "  <thead>\n",
       "    <tr style=\"text-align: right;\">\n",
       "      <th></th>\n",
       "      <th>0</th>\n",
       "      <th>1</th>\n",
       "    </tr>\n",
       "  </thead>\n",
       "  <tbody>\n",
       "    <tr>\n",
       "      <th>0</th>\n",
       "      <td>3.26</td>\n",
       "      <td>1.96</td>\n",
       "    </tr>\n",
       "    <tr>\n",
       "      <th>1</th>\n",
       "      <td>-7.66</td>\n",
       "      <td>7.43</td>\n",
       "    </tr>\n",
       "    <tr>\n",
       "      <th>2</th>\n",
       "      <td>8.82</td>\n",
       "      <td>-2.67</td>\n",
       "    </tr>\n",
       "    <tr>\n",
       "      <th>3</th>\n",
       "      <td>8.76</td>\n",
       "      <td>-4.91</td>\n",
       "    </tr>\n",
       "    <tr>\n",
       "      <th>4</th>\n",
       "      <td>8.20</td>\n",
       "      <td>-7.07</td>\n",
       "    </tr>\n",
       "  </tbody>\n",
       "</table>\n",
       "</div>"
      ],
      "text/plain": [
       "      0     1\n",
       "0  3.26  1.96\n",
       "1 -7.66  7.43\n",
       "2  8.82 -2.67\n",
       "3  8.76 -4.91\n",
       "4  8.20 -7.07"
      ]
     },
     "execution_count": 14,
     "metadata": {},
     "output_type": "execute_result"
    }
   ],
   "source": [
    "train_df_xy.head()"
   ]
  },
  {
   "cell_type": "code",
   "execution_count": 15,
   "id": "d185661a",
   "metadata": {},
   "outputs": [],
   "source": [
    "train_df_xy = train_df_xy.to_numpy()\n",
    "val_df_xy = val_df_xy.to_numpy()\n",
    "train_df_z = train_df_z.to_numpy()\n",
    "test_df_z = test_df_z.to_numpy()\n",
    "val_df_z = val_df_z.to_numpy()"
   ]
  },
  {
   "cell_type": "code",
   "execution_count": 16,
   "id": "2668eef3",
   "metadata": {},
   "outputs": [],
   "source": [
    "x_train = torch.from_numpy(train_df_xy).to(torch.float32)\n",
    "y_train  = torch.from_numpy(train_df_z).type_as(x_train)\n",
    "x_validation  = torch.from_numpy(val_df_xy).to(torch.float32)\n",
    "y_validation  = torch.from_numpy(val_df_z).type_as(x_train)"
   ]
  },
  {
   "cell_type": "code",
   "execution_count": 17,
   "id": "ffb2db4b",
   "metadata": {},
   "outputs": [],
   "source": [
    "import torch.nn as nn\n",
    "import torch.nn.functional as F\n",
    "\n",
    "class Net(nn.Module):\n",
    "   def __init__(self):\n",
    "       super(Net, self).__init__()\n",
    "       self.fc1 = nn.Linear(28 * 28, 200)\n",
    "       self.fc2 = nn.Linear(200, 200)\n",
    "       self.fc3 = nn.Linear(200, 10)"
   ]
  },
  {
   "cell_type": "code",
   "execution_count": 18,
   "id": "c4fdb3e7",
   "metadata": {},
   "outputs": [],
   "source": [
    "def forward(self, x):\n",
    "   x = F.relu(self.fc1(x))\n",
    "   x = F.relu(self.fc2(x))\n",
    "   x = self.fc3(x)\n",
    "   return F.log_softmax(x)"
   ]
  },
  {
   "cell_type": "code",
   "execution_count": 19,
   "id": "5cac8c69",
   "metadata": {},
   "outputs": [
    {
     "name": "stdout",
     "output_type": "stream",
     "text": [
      "Net(\n",
      "  (fc1): Linear(in_features=784, out_features=200, bias=True)\n",
      "  (fc2): Linear(in_features=200, out_features=200, bias=True)\n",
      "  (fc3): Linear(in_features=200, out_features=10, bias=True)\n",
      ")\n"
     ]
    }
   ],
   "source": [
    "net = Net()\n",
    "print(net)"
   ]
  },
  {
   "cell_type": "code",
   "execution_count": 20,
   "id": "552daa04",
   "metadata": {},
   "outputs": [],
   "source": [
    "\n",
    "\n",
    "optimizer = optim.SGD(net.parameters(), lr=0.01, momentum=0.9)\n",
    "criterion = nn.NLLLoss()"
   ]
  },
  {
   "cell_type": "code",
   "execution_count": 21,
   "id": "16ad471d",
   "metadata": {},
   "outputs": [],
   "source": [
    "BATCH = 64\n",
    "\n",
    "train_dataset = TensorDataset(x_train, y_train)\n",
    "val_dataset = TensorDataset(x_validation, y_validation)\n",
    "\n",
    "train_loader = DataLoader(train_dataset, batch_size=BATCH)\n",
    "val_loader = DataLoader(val_dataset, batch_size=BATCH)"
   ]
  },
  {
   "cell_type": "code",
   "execution_count": null,
   "id": "6a44002a",
   "metadata": {},
   "outputs": [],
   "source": []
  },
  {
   "cell_type": "code",
   "execution_count": null,
   "id": "dc097ca5",
   "metadata": {},
   "outputs": [],
   "source": []
  }
 ],
 "metadata": {
  "kernelspec": {
   "display_name": "Python 3 (ipykernel)",
   "language": "python",
   "name": "python3"
  },
  "language_info": {
   "codemirror_mode": {
    "name": "ipython",
    "version": 3
   },
   "file_extension": ".py",
   "mimetype": "text/x-python",
   "name": "python",
   "nbconvert_exporter": "python",
   "pygments_lexer": "ipython3",
   "version": "3.11.5"
  }
 },
 "nbformat": 4,
 "nbformat_minor": 5
}
