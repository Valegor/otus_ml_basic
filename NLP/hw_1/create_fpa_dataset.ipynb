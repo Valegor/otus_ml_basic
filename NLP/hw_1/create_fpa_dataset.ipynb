{
 "cells": [
  {
   "cell_type": "markdown",
   "id": "b779ec6e",
   "metadata": {},
   "source": [
    "Парсер статей о фитнесе - создание датасета"
   ]
  },
  {
   "cell_type": "code",
   "execution_count": 57,
   "id": "a560ce8e",
   "metadata": {},
   "outputs": [],
   "source": [
    "import requests      # Библиотека для отправки запросов\n",
    "import numpy as np   # Библиотека для матриц, векторов и линала\n",
    "import pandas as pd  # Библиотека для табличек \n",
    "import time          # Библиотека для времени\n",
    "import re"
   ]
  },
  {
   "cell_type": "code",
   "execution_count": 58,
   "id": "788abc1f",
   "metadata": {},
   "outputs": [],
   "source": [
    "from fake_useragent import UserAgent"
   ]
  },
  {
   "cell_type": "code",
   "execution_count": 59,
   "id": "c305aaf1",
   "metadata": {},
   "outputs": [
    {
     "data": {
      "text/plain": [
       "'Mozilla/5.0 (Macintosh; Intel Mac OS X 10_15_7) AppleWebKit/537.36 (KHTML, like Gecko) Chrome/117.0.0.0 Safari/537.36'"
      ]
     },
     "execution_count": 59,
     "metadata": {},
     "output_type": "execute_result"
    }
   ],
   "source": [
    "UserAgent().chrome"
   ]
  },
  {
   "cell_type": "code",
   "execution_count": 60,
   "id": "0c2f7663",
   "metadata": {},
   "outputs": [],
   "source": [
    "from bs4 import BeautifulSoup"
   ]
  },
  {
   "cell_type": "code",
   "execution_count": 61,
   "id": "a1ec2bc0",
   "metadata": {},
   "outputs": [],
   "source": [
    "from pathlib import Path\n",
    "\n",
    "path = Path('links2.txt')\n",
    "urls = path.read_text().splitlines()"
   ]
  },
  {
   "cell_type": "code",
   "execution_count": 62,
   "id": "295c7bf3",
   "metadata": {},
   "outputs": [],
   "source": [
    "def getFpaContent(url):\n",
    "\n",
    "    result = [url]\n",
    "    \n",
    "    try:\n",
    "        response = requests.get(url, headers={'User-Agent': UserAgent().chrome})\n",
    "        html = response.content\n",
    "\n",
    "        soup = BeautifulSoup(html, 'html.parser') \n",
    "\n",
    "        views = soup.find_all(\"div\", class_= \"item\")\n",
    "        views = str(views[1].contents)\n",
    "        views = views.replace(' ', '')\n",
    "        views = views.split(\"'\")\n",
    "        views = views[-2: -1][0][:-10]\n",
    "        result.append(views)\n",
    "\n",
    "        article = soup.find(\"article\").contents\n",
    "\n",
    "    #     article = str(article)\n",
    "    #     article = re.sub(r\"<[^>]+>\", \"\", article, flags=re.S)\n",
    "\n",
    "        result.append(article)\n",
    "\n",
    "    except:\n",
    "        result = []\n",
    "        \n",
    "        \n",
    "    return result  "
   ]
  },
  {
   "cell_type": "code",
   "execution_count": null,
   "id": "771de3ff",
   "metadata": {},
   "outputs": [],
   "source": [
    "# urls = urls[:3]\n",
    "\n",
    "final = []\n",
    "\n",
    "for url in urls:\n",
    "    final.append(getFpaContent(url))\n",
    "    time.sleep(0.3)\n",
    "\n"
   ]
  },
  {
   "cell_type": "code",
   "execution_count": null,
   "id": "bd99d784",
   "metadata": {},
   "outputs": [],
   "source": [
    "final_df = pd.DataFrame(final)\n",
    "\n",
    "final_df.columns=[\"URL\", \"Views\", \"Content\"]\n",
    "\n"
   ]
  },
  {
   "cell_type": "code",
   "execution_count": null,
   "id": "cc2b1fb3",
   "metadata": {},
   "outputs": [],
   "source": [
    "final_df.head(5)"
   ]
  },
  {
   "cell_type": "code",
   "execution_count": null,
   "id": "80bdc3b1",
   "metadata": {},
   "outputs": [],
   "source": [
    "final_df.to_csv('FPA_articles.csv', index=False)"
   ]
  }
 ],
 "metadata": {
  "kernelspec": {
   "display_name": "Python 3 (ipykernel)",
   "language": "python",
   "name": "python3"
  },
  "language_info": {
   "codemirror_mode": {
    "name": "ipython",
    "version": 3
   },
   "file_extension": ".py",
   "mimetype": "text/x-python",
   "name": "python",
   "nbconvert_exporter": "python",
   "pygments_lexer": "ipython3",
   "version": "3.11.5"
  }
 },
 "nbformat": 4,
 "nbformat_minor": 5
}
